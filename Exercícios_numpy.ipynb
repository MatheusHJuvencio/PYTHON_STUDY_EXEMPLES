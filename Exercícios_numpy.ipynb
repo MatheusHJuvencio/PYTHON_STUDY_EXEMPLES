{
 "cells": [
  {
   "cell_type": "markdown",
   "id": "aa44ccce-698f-40cc-b047-805a823f9a7f",
   "metadata": {},
   "source": [
    "### Atribuição de Classe para 1.1 a 1.3\n",
    "#### Crie uma matriz de tamanho (2,3) com valores binários aleatórios\n",
    "#### Encontre a soma de todos os blocos 2x2 (sobrepostos) para uma matriz inteira aleatória de tamanho (3,5)"
   ]
  },
  {
   "cell_type": "code",
   "execution_count": 15,
   "id": "e02fccb4-0289-4dc1-a393-446a793c38b7",
   "metadata": {},
   "outputs": [
    {
     "name": "stdout",
     "output_type": "stream",
     "text": [
      "a matriz é: \n",
      "[[0 0 0]\n",
      " [1 0 1]]\n",
      " \n"
     ]
    }
   ],
   "source": [
    "import numpy as np\n",
    "m1 = np.random.randint(low=0, high=2, size=(2,3))\n",
    "print('a matriz é: \\n%s\\n '%m1)"
   ]
  },
  {
   "cell_type": "code",
   "execution_count": 16,
   "id": "f44da852-b94e-4e25-81da-04c736dd40e3",
   "metadata": {},
   "outputs": [
    {
     "name": "stdout",
     "output_type": "stream",
     "text": [
      "a matriz original é: \n",
      "[[5 8 6 5 8]\n",
      " [7 3 0 8 0]\n",
      " [7 7 9 6 6]]\n",
      "\n"
     ]
    }
   ],
   "source": [
    "m2 = np.random.randint(0,10,(3,5))\n",
    "print('a matriz original é: \\n%s\\n' %m2)"
   ]
  },
  {
   "cell_type": "code",
   "execution_count": 17,
   "id": "df5edbe0-c456-4e0c-b791-750840e01001",
   "metadata": {},
   "outputs": [
    {
     "name": "stdout",
     "output_type": "stream",
     "text": [
      "a submatriz é: \n",
      "[[6 5]\n",
      " [0 8]]\n",
      "\n",
      "a submatriz é: \n",
      "[[5 8]\n",
      " [7 3]]\n",
      "\n",
      "a submatriz é: \n",
      "[[8 0]\n",
      " [6 6]]\n",
      "\n",
      "62\n"
     ]
    }
   ],
   "source": [
    "#criando a submatriz\n",
    "subm2= m2[0:2,2:4]\n",
    "subm3= m2[0:2,0:2]\n",
    "subm4 = m2[1:3,3:5]\n",
    "print('a submatriz é: \\n%s\\n' %subm2)\n",
    "print('a submatriz é: \\n%s\\n' %subm3)\n",
    "print('a submatriz é: \\n%s\\n' %subm4)\n",
    "soma = np.sum([[subm2],[subm3],[subm4]])\n",
    "print(soma)"
   ]
  },
  {
   "cell_type": "markdown",
   "id": "56666f80-bc1f-4e81-8229-110173ea6a9b",
   "metadata": {},
   "source": [
    "#### Capítulo 1 Atribuição\n",
    "##### Crie uma matriz nula de tamanho 10, mas o quinto valor que é 1\n",
    "##### Inverta um array criado acima (o primeiro elemento se torna o último)\n",
    "##### Crie uma matriz 3x3 com valores que variam de 0 a 8\n",
    "##### Encontre índices de elementos diferentes de zero de [1,2,0,0,4,0]\n",
    "##### Crie uma matriz 3x3x3 com valores aleatórios\n",
    "##### Crie uma matriz 10x10 com valores aleatórios e encontre os valores mínimo e máximo\n",
    "##### Crie um vetor aleatório de tamanho 30 e encontre o valor médio\n",
    "##### Crie uma matriz 2d com 1 na borda e 0 dentro\n",
    "##### Multiplique uma matriz 5x3 por uma matriz 3x2 (produto da matriz real)\n",
    "##### Extraia a parte inteira de uma matriz aleatória\n",
    "##### Crie uma matriz 5x5 com valores de linha variando de 0 a 4\n",
    "##### Crie um vetor aleatório de tamanho 10 e ordene-o\n",
    "##### Considere dois arrays aleatórios A e B, verifique se eles são iguais\n",
    "##### Como saber se um determinado array 2D tem colunas nulas?\n",
    "##### Considerando uma matriz de quatro dimensões, como obter a soma dos dois últimos eixos de uma só vez?\n",
    "##### Considere um array de dimensão (5,5,3), como multiplicá-lo por um array com dimensões (5,5)?\n",
    "##### Extraia todos os blocos 3x3 contíguos de uma matriz 10x10 aleatória\n",
    "##### Considere uma matriz de 16x16, como obter a soma de blocos (o tamanho do bloco é 4x4)?"
   ]
  },
  {
   "cell_type": "code",
   "execution_count": 18,
   "id": "5cb41dc3-c9f7-4879-9eb8-4a30f5b25365",
   "metadata": {},
   "outputs": [
    {
     "name": "stdout",
     "output_type": "stream",
     "text": [
      "A matriz é: \n",
      "[0. 0. 0. 0. 0. 0. 0. 0. 0. 0.]\n",
      "\n",
      "A matriz alterada é: \n",
      "[0. 0. 0. 0. 0. 0. 1. 0. 0. 0.]\n",
      "\n"
     ]
    }
   ],
   "source": [
    "# Primeiro\n",
    "ma1 = np.zeros(10)\n",
    "print ('A matriz é: \\n%s\\n'%ma1)\n",
    "m1_5 = ma1\n",
    "m1_5[6] = 1\n",
    "print ('A matriz alterada é: \\n%s\\n'%m1_5)"
   ]
  },
  {
   "cell_type": "code",
   "execution_count": 19,
   "id": "cd4cc282-7a30-4380-a538-b081c62982d6",
   "metadata": {},
   "outputs": [
    {
     "name": "stdout",
     "output_type": "stream",
     "text": [
      "[0. 0. 0. 1. 0. 0. 0. 0. 0. 0.]\n"
     ]
    }
   ],
   "source": [
    "# Segundo\n",
    "vec1 = m1_5[::-1]\n",
    "print (vec1)"
   ]
  },
  {
   "cell_type": "code",
   "execution_count": 23,
   "id": "6ff7e679-88d7-412d-8f8c-9cc4bd3dae2c",
   "metadata": {},
   "outputs": [
    {
     "name": "stdout",
     "output_type": "stream",
     "text": [
      "a matriz 3x3 é: \n",
      "[[0 1 2]\n",
      " [3 4 5]\n",
      " [6 7 8]]\n",
      "\n"
     ]
    }
   ],
   "source": [
    "# Teceiro\n",
    "ma = np.array([[0,1,2],[3,4,5],[6,7,8]])\n",
    "print('a matriz 3x3 é: \\n%s\\n'%ma)"
   ]
  },
  {
   "cell_type": "code",
   "execution_count": 25,
   "id": "cba09906-d820-493b-9c27-d1747fe2cc19",
   "metadata": {},
   "outputs": [
    {
     "name": "stdout",
     "output_type": "stream",
     "text": [
      "a matriz é: \n",
      "[1 2 0 0 4 0]\n",
      "\n",
      "os numeros encontrados são: \n",
      "[1 2 4]\n",
      "\n"
     ]
    }
   ],
   "source": [
    "# Quarto\n",
    "ma = np.array([1,2,0,0,4,0])\n",
    "print('a matriz é: \\n%s\\n'%ma)\n",
    "idx = [0,1,4]\n",
    "vec = ma[idx]\n",
    "print('os numeros encontrados são: \\n%s\\n'%vec)"
   ]
  },
  {
   "cell_type": "code",
   "execution_count": 28,
   "id": "f6e85c93-cf6d-4a57-8e01-a42193757712",
   "metadata": {},
   "outputs": [
    {
     "name": "stdout",
     "output_type": "stream",
     "text": [
      "a matriz é: \n",
      "[[0.52686945 0.47415361 0.31792434]\n",
      " [0.81461819 0.83657804 0.30353939]\n",
      " [0.81065328 0.84782366 0.25729835]]\n",
      "\n"
     ]
    }
   ],
   "source": [
    "# Quinto\n",
    "ma = np.random.random(size=(3,3))\n",
    "print('a matriz é: \\n%s\\n'%ma)"
   ]
  },
  {
   "cell_type": "code",
   "execution_count": 29,
   "id": "ab9e6097-2fc4-4cb8-b286-1c469533ec4a",
   "metadata": {},
   "outputs": [
    {
     "name": "stdout",
     "output_type": "stream",
     "text": [
      "a matriz original é: \n",
      "[[4.31092034e-01 8.71610437e-01 9.16561478e-01 1.36976826e-01\n",
      "  5.16741177e-01 4.18717680e-01 6.16507049e-01 1.82599271e-01\n",
      "  1.71781548e-01 1.28479340e-01]\n",
      " [8.80567591e-01 7.80546841e-01 1.68975542e-01 7.44652673e-01\n",
      "  4.30505752e-01 6.06741748e-01 1.88845679e-01 6.71540618e-01\n",
      "  5.68682948e-01 5.05393117e-01]\n",
      " [2.82416779e-01 7.63659877e-01 8.40452551e-01 8.50267622e-01\n",
      "  9.26831077e-01 8.23965331e-01 4.36957582e-01 4.50469903e-01\n",
      "  9.55337525e-01 9.15358036e-01]\n",
      " [6.94979848e-01 7.77450233e-01 9.88414928e-01 5.22122777e-01\n",
      "  3.76299344e-02 4.63990326e-01 8.27375514e-01 3.32607034e-01\n",
      "  8.73763066e-04 2.78451801e-01]\n",
      " [2.37621511e-01 1.41099597e-01 1.05204683e-01 3.13436358e-01\n",
      "  9.33748177e-01 8.65645270e-01 6.39994124e-01 5.30945487e-01\n",
      "  9.35700759e-02 6.50498921e-01]\n",
      " [6.83730717e-01 3.17337321e-01 6.62177650e-01 5.34756083e-01\n",
      "  2.32772308e-01 5.70149334e-01 7.59683039e-01 6.96289011e-01\n",
      "  1.92905306e-01 5.27027787e-01]\n",
      " [9.71475929e-01 1.89922599e-01 2.21495063e-01 4.20234144e-01\n",
      "  4.13808232e-01 5.46507244e-01 9.83866954e-01 3.27881780e-01\n",
      "  5.92146639e-01 8.88066655e-01]\n",
      " [7.45304602e-01 3.42052700e-01 7.08072928e-02 8.35389031e-01\n",
      "  6.88768292e-01 9.32862451e-01 7.96490211e-01 4.67202348e-01\n",
      "  4.66999343e-01 8.41850559e-01]\n",
      " [6.50764451e-02 5.30212389e-01 7.70651831e-01 2.61244973e-01\n",
      "  3.09626309e-01 5.70774626e-01 5.14457665e-01 7.00261657e-01\n",
      "  7.14458987e-01 6.59192285e-01]\n",
      " [6.08491281e-01 4.35730055e-01 1.34952521e-01 4.74020941e-02\n",
      "  5.29252606e-01 9.13839012e-01 1.86625370e-02 8.67129435e-01\n",
      "  2.64887714e-01 1.27065405e-01]]\n",
      "\n",
      "o valor máximo da matriz é: \n",
      "0.9884149280470725\n",
      "\n",
      "o valorm minimo da matriz é: \n",
      "0.0008737630657761342\n",
      "\n"
     ]
    }
   ],
   "source": [
    "# Sexto\n",
    "ma = np.random.random(size=(10,10))\n",
    "vec1 = np.max(ma)\n",
    "vec2 = np.min(ma)\n",
    "print('a matriz original é: \\n%s\\n'%ma)\n",
    "print('o valor máximo da matriz é: \\n%s\\n'%vec1)\n",
    "print('o valorm minimo da matriz é: \\n%s\\n'%vec2)"
   ]
  },
  {
   "cell_type": "code",
   "execution_count": 30,
   "id": "3f587ec7-ac78-43f7-8c6f-849edd87de6c",
   "metadata": {},
   "outputs": [
    {
     "name": "stdout",
     "output_type": "stream",
     "text": [
      "o vetor é: \n",
      "[[0.44730826 0.49131606 0.69393247 0.65015797 0.21714903 0.41395384\n",
      "  0.40555241 0.72285885 0.97973576 0.19113314 0.2671354  0.89367175\n",
      "  0.14350542 0.98572858 0.91843981 0.78639674 0.61856002 0.29802699\n",
      "  0.31296487 0.48091278 0.22579024 0.42961243 0.38813111 0.97826243\n",
      "  0.10359984 0.23833541 0.84634489 0.09817615 0.05398518 0.23819884]]\n",
      "\n",
      "a média é: \n",
      "0.4839625549429737\n",
      "\n"
     ]
    }
   ],
   "source": [
    "# Séticmo\n",
    "vec= np.random.random(size=(1,30))\n",
    "vec1 = np.mean(vec)\n",
    "print('o vetor é: \\n%s\\n'%vec)\n",
    "print('a média é: \\n%s\\n'%vec1)"
   ]
  },
  {
   "cell_type": "code",
   "execution_count": 31,
   "id": "a185d509-b321-497b-9a08-7a97b251e039",
   "metadata": {},
   "outputs": [
    {
     "name": "stdout",
     "output_type": "stream",
     "text": [
      "[[1 1 1]\n",
      " [1 0 1]\n",
      " [1 1 1]]\n"
     ]
    }
   ],
   "source": [
    "# Oitavo\n",
    "ma = np.array([[1,1,1],[1,0,1],[1,1,1]])\n",
    "print(ma)"
   ]
  },
  {
   "cell_type": "code",
   "execution_count": 34,
   "id": "259981ec-1def-4d8d-9793-27472dc716bc",
   "metadata": {},
   "outputs": [
    {
     "name": "stdout",
     "output_type": "stream",
     "text": [
      "a matriz 1 é: \n",
      "[[4 2 3]\n",
      " [1 2 3]\n",
      " [2 5 5]\n",
      " [4 1 1]\n",
      " [3 2 2]]\n",
      "\n",
      "a matriz 2 é: \n",
      "[[ 7 12]\n",
      " [11  8]\n",
      " [ 7  7]]\n",
      "\n",
      "a multiplicação das matrizes são: \n",
      "[[ 71  85]\n",
      " [ 50  49]\n",
      " [104  99]\n",
      " [ 46  63]\n",
      " [ 57  66]]\n",
      "\n"
     ]
    }
   ],
   "source": [
    "# Nono\n",
    "ma = np.random.randint(0,6,(5,3))\n",
    "ma1 = np.random.randint(7,13,(3,2))\n",
    "print('a matriz 1 é: \\n%s\\n'%ma)\n",
    "print('a matriz 2 é: \\n%s\\n'%ma1)\n",
    "print('a multiplicação das matrizes são: \\n%s\\n'%np.dot(ma,ma1))"
   ]
  },
  {
   "cell_type": "code",
   "execution_count": 35,
   "id": "7bfd87ce-ce1c-4aa7-8531-4c5d40271b7a",
   "metadata": {},
   "outputs": [
    {
     "name": "stdout",
     "output_type": "stream",
     "text": [
      "[[1 1 2]\n",
      " [2 1 8]\n",
      " [5 6 1]]\n"
     ]
    }
   ],
   "source": [
    "# Décimo\n",
    "ma = np.random.randint(0,9,(3,3))\n",
    "print(ma)\n"
   ]
  },
  {
   "cell_type": "code",
   "execution_count": 39,
   "id": "a7bb30ae-e214-4fbc-9ae1-d7b1694b417a",
   "metadata": {},
   "outputs": [
    {
     "name": "stdout",
     "output_type": "stream",
     "text": [
      "[[0 0 2 2 2]\n",
      " [0 1 0 1 2]\n",
      " [0 3 4 4 3]\n",
      " [3 1 3 4 2]\n",
      " [4 3 1 1 1]]\n"
     ]
    }
   ],
   "source": [
    "# Décimo primeiro\n",
    "ma = np.random.randint(0,5,(5,5))\n",
    "print(ma)"
   ]
  },
  {
   "cell_type": "code",
   "execution_count": 47,
   "id": "bec63978-557d-41ab-94e3-8fc3c42a1df9",
   "metadata": {},
   "outputs": [
    {
     "name": "stdout",
     "output_type": "stream",
     "text": [
      "[[5 4 6 5 3 7 8 9 3 6]]\n",
      "[[3 3 4 5 5 6 6 7 8 9]]\n"
     ]
    }
   ],
   "source": [
    "# Décimo segundo\n",
    "ma = np.random.randint(0,10,(1,10))\n",
    "print(ma)\n",
    "vec = np.sort(ma)\n",
    "print(vec)"
   ]
  },
  {
   "cell_type": "code",
   "execution_count": null,
   "id": "04206bbb-b003-483f-b60d-26e48a0df9eb",
   "metadata": {},
   "outputs": [],
   "source": []
  }
 ],
 "metadata": {
  "kernelspec": {
   "display_name": "Python 3",
   "language": "python",
   "name": "python3"
  },
  "language_info": {
   "codemirror_mode": {
    "name": "ipython",
    "version": 3
   },
   "file_extension": ".py",
   "mimetype": "text/x-python",
   "name": "python",
   "nbconvert_exporter": "python",
   "pygments_lexer": "ipython3",
   "version": "3.8.8"
  }
 },
 "nbformat": 4,
 "nbformat_minor": 5
}
