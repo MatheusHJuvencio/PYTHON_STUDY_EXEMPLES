{
 "cells": [
  {
   "cell_type": "markdown",
   "id": "374c0351-750e-4328-a5aa-dd81522185d6",
   "metadata": {},
   "source": [
    "### Exercícios de classes\n",
    "#### Classes, heranças e polimorfismo"
   ]
  },
  {
   "cell_type": "markdown",
   "id": "a96d2493-e307-47fd-b9c0-efcfc1e88eed",
   "metadata": {},
   "source": [
    "#### Construção da superclasse FormaGeometrica:"
   ]
  },
  {
   "cell_type": "code",
   "execution_count": 1,
   "id": "c487a1da-f4f8-41e9-8b09-065a643777fe",
   "metadata": {},
   "outputs": [],
   "source": [
    "import math"
   ]
  },
  {
   "cell_type": "code",
   "execution_count": 2,
   "id": "5b79ecb5-1f8a-4613-aaef-920b3eb750ce",
   "metadata": {},
   "outputs": [],
   "source": [
    "class FormaGeometrica:\n",
    "    \n",
    "    def __init__(self, x, y):\n",
    "        self.x = x\n",
    "        self.y = y\n",
    "        self.nomeclasse = self.__class__.__name__\n",
    "        print(f'O objeto {self.nomeclasse} foi instanciado com sucesso')\n",
    "        \n",
    "        \n",
    "    def Desenhar(self):\n",
    "        print(f'O objeto {self.nomeclasse} está centrado em ({self.x},{self.y})')"
   ]
  },
  {
   "cell_type": "code",
   "execution_count": 3,
   "id": "05a85ab3-434f-4189-93d0-bcd570d46253",
   "metadata": {},
   "outputs": [
    {
     "name": "stdout",
     "output_type": "stream",
     "text": [
      "O objeto FormaGeometrica foi instanciado com sucesso\n"
     ]
    }
   ],
   "source": [
    "# Testando a classe FormaGeo:\n",
    "\n",
    "forma_teste = FormaGeometrica(0,0)"
   ]
  },
  {
   "cell_type": "code",
   "execution_count": 4,
   "id": "1090e72b-3f68-42c8-ac36-a9e399cccf4a",
   "metadata": {},
   "outputs": [
    {
     "name": "stdout",
     "output_type": "stream",
     "text": [
      "O objeto FormaGeometrica está centrado em (0,0)\n"
     ]
    }
   ],
   "source": [
    "forma_teste.Desenhar()"
   ]
  },
  {
   "cell_type": "markdown",
   "id": "b3a2a812-3b4e-44de-8a69-cd18879de0b8",
   "metadata": {},
   "source": [
    "#### Construção das classes filhas:"
   ]
  },
  {
   "cell_type": "code",
   "execution_count": 9,
   "id": "ef5e7f21-ccbf-4c03-a111-a267e69dfde0",
   "metadata": {},
   "outputs": [],
   "source": [
    "class Forma2D(FormaGeometrica):\n",
    "    \n",
    "    def __init__(self, x, y, largura=None, comprimento=None):\n",
    "        super().__init__(x,y)\n",
    "        if largura != None:\n",
    "            self.largura = largura\n",
    "            \n",
    "        if comprimento != None:\n",
    "            self.comprimento = comprimento\n",
    "        else:\n",
    "            self.comprimento = largura\n",
    "        \n",
    "    def Area(self):\n",
    "        self.area = self.largura * self.comprimento\n",
    "        return self.area\n",
    "    \n",
    "    \n",
    "    def Perimetro(self):\n",
    "        self.perimetro = (2*self.comprimento) + (2*self.largura)\n",
    "        return self.perimetro\n",
    "    \n",
    "    \n",
    "    def Desenhar(self):\n",
    "        print(f'O objeto {self.nomeclasse} possui perímetro igual a {self.Perimetro()} e área igual a {self.Area()}')"
   ]
  },
  {
   "cell_type": "code",
   "execution_count": 10,
   "id": "04bf8c65-9343-47c6-a226-b563856a9ca6",
   "metadata": {},
   "outputs": [
    {
     "name": "stdout",
     "output_type": "stream",
     "text": [
      "O objeto Forma2D foi instanciado com sucesso\n"
     ]
    }
   ],
   "source": [
    "# Testando a classe Forma2d:\n",
    "\n",
    "forma2D_teste = Forma2D(0,0, 2, 4)"
   ]
  },
  {
   "cell_type": "code",
   "execution_count": 11,
   "id": "adcbbcca-8dd0-4aa5-b9dc-af73bec290bb",
   "metadata": {},
   "outputs": [
    {
     "name": "stdout",
     "output_type": "stream",
     "text": [
      "O objeto Forma2D possui perímetro igual a 12 e área igual a 8\n"
     ]
    }
   ],
   "source": [
    "forma2D_teste.Desenhar()"
   ]
  },
  {
   "cell_type": "markdown",
   "id": "6a5d33ba-efc6-432f-b14c-7a3732788bef",
   "metadata": {},
   "source": [
    "#### Classes filhas da Classe Forma2D:"
   ]
  },
  {
   "cell_type": "code",
   "execution_count": 12,
   "id": "45088a86-9528-4138-82f1-c5637bc9d55f",
   "metadata": {},
   "outputs": [],
   "source": [
    "class Poligono(Forma2D):\n",
    "    \n",
    "    pass"
   ]
  },
  {
   "cell_type": "code",
   "execution_count": 13,
   "id": "86ca9c08-d2e9-4a7c-8f7a-741d1ba0c8ec",
   "metadata": {},
   "outputs": [
    {
     "name": "stdout",
     "output_type": "stream",
     "text": [
      "O objeto Poligono foi instanciado com sucesso\n"
     ]
    }
   ],
   "source": [
    "# Criando um polígono teste:\n",
    "\n",
    "poligono_teste = Poligono(0,0,2,4)"
   ]
  },
  {
   "cell_type": "code",
   "execution_count": 14,
   "id": "6d7f53f6-cbf4-4e48-9208-cc6ee50ab243",
   "metadata": {},
   "outputs": [
    {
     "name": "stdout",
     "output_type": "stream",
     "text": [
      "O objeto Poligono possui perímetro igual a 12 e área igual a 8\n"
     ]
    }
   ],
   "source": [
    "poligono_teste.Desenhar()"
   ]
  },
  {
   "cell_type": "code",
   "execution_count": 15,
   "id": "fcb7aae0-83cf-41e4-9080-8ae0dcaf73ba",
   "metadata": {},
   "outputs": [],
   "source": [
    "class Retangulo(Forma2D):\n",
    "    \n",
    "    \"\"\"\n",
    "    Classe filha da classe Forma2d\n",
    "    \"\"\"\n",
    "    pass"
   ]
  },
  {
   "cell_type": "code",
   "execution_count": 16,
   "id": "3d63bdd4-0e8f-4ea7-8edd-146942626166",
   "metadata": {},
   "outputs": [
    {
     "name": "stdout",
     "output_type": "stream",
     "text": [
      "O objeto Retangulo foi instanciado com sucesso\n"
     ]
    }
   ],
   "source": [
    "retangulo_teste = Retangulo(0,0,2,6)"
   ]
  },
  {
   "cell_type": "code",
   "execution_count": 17,
   "id": "46d82310-67c3-4827-9e4e-cab5f8450717",
   "metadata": {},
   "outputs": [
    {
     "data": {
      "text/plain": [
       "12"
      ]
     },
     "execution_count": 17,
     "metadata": {},
     "output_type": "execute_result"
    }
   ],
   "source": [
    "retangulo_teste.Area()"
   ]
  },
  {
   "cell_type": "code",
   "execution_count": 18,
   "id": "9f78eb27-7c82-4a4c-b880-36a6d3b5630e",
   "metadata": {},
   "outputs": [
    {
     "name": "stdout",
     "output_type": "stream",
     "text": [
      "O objeto Retangulo possui perímetro igual a 16 e área igual a 12\n"
     ]
    }
   ],
   "source": [
    "retangulo_teste.Desenhar()"
   ]
  },
  {
   "cell_type": "code",
   "execution_count": 19,
   "id": "fb55ecfc-c0aa-45c7-8bfb-e562b3ee0fd8",
   "metadata": {},
   "outputs": [],
   "source": [
    "class Quadrado(Retangulo):\n",
    "    \n",
    "    pass"
   ]
  },
  {
   "cell_type": "code",
   "execution_count": 20,
   "id": "314b7f7e-d19f-464c-a316-8eb082573c5c",
   "metadata": {},
   "outputs": [
    {
     "name": "stdout",
     "output_type": "stream",
     "text": [
      "O objeto Quadrado foi instanciado com sucesso\n"
     ]
    }
   ],
   "source": [
    "quad_teste = Quadrado(0,0,4)"
   ]
  },
  {
   "cell_type": "code",
   "execution_count": 21,
   "id": "2cd14131-15c0-48b8-b304-88df7a55c6d1",
   "metadata": {},
   "outputs": [
    {
     "data": {
      "text/plain": [
       "12"
      ]
     },
     "execution_count": 21,
     "metadata": {},
     "output_type": "execute_result"
    }
   ],
   "source": [
    "retangulo_teste.Area()"
   ]
  },
  {
   "cell_type": "code",
   "execution_count": 22,
   "id": "ba99cc5f-5dcc-47f2-a3a3-ce34222c0d37",
   "metadata": {},
   "outputs": [
    {
     "name": "stdout",
     "output_type": "stream",
     "text": [
      "O objeto Retangulo possui perímetro igual a 16 e área igual a 12\n"
     ]
    }
   ],
   "source": [
    "retangulo_teste.Desenhar()"
   ]
  },
  {
   "cell_type": "code",
   "execution_count": 23,
   "id": "25d754f8-b78d-4281-a393-8283551b6220",
   "metadata": {},
   "outputs": [],
   "source": [
    "class Quadrado(Retangulo):\n",
    "    \n",
    "    pass"
   ]
  },
  {
   "cell_type": "code",
   "execution_count": 24,
   "id": "2a553449-01a9-4dbd-8f20-ee4b4ef9cc14",
   "metadata": {},
   "outputs": [
    {
     "name": "stdout",
     "output_type": "stream",
     "text": [
      "O objeto Quadrado foi instanciado com sucesso\n"
     ]
    }
   ],
   "source": [
    "quadrado_teste = Quadrado(0,0,4)"
   ]
  },
  {
   "cell_type": "code",
   "execution_count": 25,
   "id": "50202f84-3cde-4e98-8bb8-9abc7ce9fdd7",
   "metadata": {},
   "outputs": [
    {
     "name": "stdout",
     "output_type": "stream",
     "text": [
      "O objeto Quadrado possui perímetro igual a 16 e área igual a 16\n"
     ]
    }
   ],
   "source": [
    "quadrado_teste.Desenhar()"
   ]
  },
  {
   "cell_type": "code",
   "execution_count": 26,
   "id": "c06e4a77-0020-45d9-88e6-6368660f9f2c",
   "metadata": {},
   "outputs": [],
   "source": [
    "class Circulo(Forma2D):\n",
    "    \n",
    "    def __init__(self, x, y, raio):\n",
    "        super().__init__(x,y)\n",
    "        self.raio = raio\n",
    "        \n",
    "    \n",
    "    def Area_circ(self):\n",
    "        \n",
    "        self.Area_circ = math.pi * (self.raio ** 2)\n",
    "        return self.Area_circ\n",
    "    \n",
    "    \n",
    "    def Comp(self):\n",
    "        \n",
    "        self.Comp = 2 * math.pi * self.raio\n",
    "        return self.Comp\n",
    "    \n",
    "    \n",
    "    def Desenhar(self):\n",
    "        print(f'O objeto {self.nomeclasse} possui perímetro igual a {self.Comp()} e área igual a {self.Area_circ()}')"
   ]
  },
  {
   "cell_type": "code",
   "execution_count": 27,
   "id": "cda375ef-2a3c-41d2-b123-760d4c8361ad",
   "metadata": {},
   "outputs": [
    {
     "name": "stdout",
     "output_type": "stream",
     "text": [
      "O objeto Circulo foi instanciado com sucesso\n"
     ]
    }
   ],
   "source": [
    "cir_teste = Circulo(0,0,4)"
   ]
  },
  {
   "cell_type": "code",
   "execution_count": 28,
   "id": "e24aab88-56e5-4108-89ca-dfdb78465c68",
   "metadata": {},
   "outputs": [
    {
     "name": "stdout",
     "output_type": "stream",
     "text": [
      "O objeto Circulo possui perímetro igual a 25.132741228718345 e área igual a 50.26548245743669\n"
     ]
    }
   ],
   "source": [
    "cir_teste.Desenhar()"
   ]
  },
  {
   "cell_type": "code",
   "execution_count": 29,
   "id": "f9708a5a-7334-4d24-9d5f-9232f63ba306",
   "metadata": {},
   "outputs": [],
   "source": [
    "class Forma3D(FormaGeometrica):\n",
    "    \n",
    "    def __init__(self, x, y, z, raio = None, lado = None):\n",
    "        super().__init__(x,y)\n",
    "        self.z = z\n",
    "        if raio != None:\n",
    "            self.raio = raio\n",
    "            \n",
    "        if lado != None:\n",
    "            self.lado = lado\n",
    "            \n",
    "            \n",
    "    def Desenhar(self):\n",
    "        print(f'O objeto {self.nomeclasse} possui centro em ({self.x},{self.y},{self.z})')"
   ]
  },
  {
   "cell_type": "code",
   "execution_count": 31,
   "id": "17fbeeae-0830-437f-b865-c94ae74b90cb",
   "metadata": {},
   "outputs": [
    {
     "name": "stdout",
     "output_type": "stream",
     "text": [
      "O objeto Forma3D foi instanciado com sucesso\n"
     ]
    }
   ],
   "source": [
    "esfera_teste = Forma3D(0,0,0)"
   ]
  },
  {
   "cell_type": "code",
   "execution_count": 32,
   "id": "7689c095-1227-4fbd-b134-6e6713eb7670",
   "metadata": {},
   "outputs": [],
   "source": [
    "class Esfera(Forma3D):\n",
    "    \n",
    "    def __init__(self, x, y, z, raio):\n",
    "        super().__init__(x,y,z)\n",
    "        self.raio = raio\n",
    "    \n",
    "    def Area_esfera(self):\n",
    "        \n",
    "        self.area_esfera = 4*  math.pi * (self.raio ** 2)\n",
    "        return self.area_esfera\n",
    "    \n",
    "    def Volume_esfera(self):\n",
    "        self.volume_esfera = (4/3) * math.pi * (self.raio **3)\n",
    "        return self.volume_esfera\n",
    "    \n",
    "    def Desenhar(self):\n",
    "        print(f'O objeto {self.nomeclasse} possui centro em ({self.x},{self.y},{self.z}), área de {self.Area_esfera()} e volume de {self.Volume_esfera()}')"
   ]
  },
  {
   "cell_type": "code",
   "execution_count": 33,
   "id": "fd494054-2284-4e49-b6e4-93bbbad69a73",
   "metadata": {},
   "outputs": [
    {
     "name": "stdout",
     "output_type": "stream",
     "text": [
      "O objeto Esfera foi instanciado com sucesso\n"
     ]
    }
   ],
   "source": [
    "esfera = Esfera(0,0,0,4)"
   ]
  },
  {
   "cell_type": "code",
   "execution_count": 34,
   "id": "8c789113-b530-4df5-b0bc-8e96fb87004f",
   "metadata": {},
   "outputs": [
    {
     "name": "stdout",
     "output_type": "stream",
     "text": [
      "O objeto Esfera possui centro em (0,0,0), área de 201.06192982974676 e volume de 268.082573106329\n"
     ]
    }
   ],
   "source": [
    "esfera.Desenhar()"
   ]
  },
  {
   "cell_type": "code",
   "execution_count": 36,
   "id": "0dbcc29c-0706-47d0-91a7-278abd4bd082",
   "metadata": {},
   "outputs": [],
   "source": [
    "class Cilindro(Forma3D):\n",
    "    \n",
    "    def __init__(self, x, y, z, raio, lado):\n",
    "        super().__init__(x,y,z)\n",
    "        self.raio = raio\n",
    "        self.lado = lado\n",
    "        \n",
    "    \n",
    "    def Area_cil(self):\n",
    "        self.area_cil = (2 * math.pi * (self.raio**2)) + (2 * math.pi * self.raio * self.lado)\n",
    "        return self.area_cil\n",
    "    \n",
    "    \n",
    "    def Volume_cil(self):\n",
    "        self.volume_cil = (math.pi * (self.raio**2)) * self.lado \n",
    "        return self.volume_cil\n",
    "    \n",
    "    def Desenhar(self):\n",
    "        print(f'O objeto {self.nomeclasse} possui centro em ({self.x},{self.y},{self.z}), área de {self.Area_cil()} e volume de {self.Volume_cil()}')"
   ]
  },
  {
   "cell_type": "code",
   "execution_count": 37,
   "id": "70dcbd7a-6989-47f2-85cd-8e58f98bac12",
   "metadata": {},
   "outputs": [
    {
     "name": "stdout",
     "output_type": "stream",
     "text": [
      "O objeto Cilindro foi instanciado com sucesso\n"
     ]
    }
   ],
   "source": [
    "cilindro = Cilindro(0,0,0,4,10)"
   ]
  },
  {
   "cell_type": "code",
   "execution_count": 38,
   "id": "74136800-819e-4809-83c0-415a0de24c69",
   "metadata": {},
   "outputs": [
    {
     "name": "stdout",
     "output_type": "stream",
     "text": [
      "O objeto Cilindro possui centro em (0,0,0), área de 351.85837720205683 e volume de 502.6548245743669\n"
     ]
    }
   ],
   "source": [
    "cilindro.Desenhar()"
   ]
  },
  {
   "cell_type": "code",
   "execution_count": 39,
   "id": "cbbd5267-1bcf-47ac-91c5-16f61ce01fbc",
   "metadata": {},
   "outputs": [],
   "source": [
    "class Quadro:\n",
    "    \n",
    "    def __init__(self,figuras_geo: list):\n",
    "        self.figuras_geo = figuras_geo\n",
    "\n",
    "    def Desenhar(self):\n",
    "        for figura in self.figuras_geo:\n",
    "            figura.Desenhar()\n",
    "            print('+-'*30)\n",
    "\n",
    "    def Adicionar_figura(self, figura):\n",
    "        self.figuras_geo.append(figura)\n",
    "        return self.figuras_geo\n",
    "\n",
    "    def Remover_figura(self, pos):\n",
    "        self.figuras_geo.pop(pos)\n",
    "        return self.figuras_geo"
   ]
  },
  {
   "cell_type": "code",
   "execution_count": 40,
   "id": "6d940f3c-a3a3-4fb3-99cb-bcdef6ce2a8f",
   "metadata": {},
   "outputs": [],
   "source": [
    "lista_figuras = [cilindro]"
   ]
  },
  {
   "cell_type": "code",
   "execution_count": 41,
   "id": "10e7adac-e0f3-45ec-b986-8519e3560b79",
   "metadata": {},
   "outputs": [],
   "source": [
    "quadro = Quadro(lista_figuras)"
   ]
  },
  {
   "cell_type": "code",
   "execution_count": 42,
   "id": "de86ee26-7c19-4ebd-89dd-e0305a995295",
   "metadata": {},
   "outputs": [
    {
     "name": "stdout",
     "output_type": "stream",
     "text": [
      "O objeto Cilindro possui centro em (0,0,0), área de 351.85837720205683 e volume de 502.6548245743669\n",
      "+-+-+-+-+-+-+-+-+-+-+-+-+-+-+-+-+-+-+-+-+-+-+-+-+-+-+-+-+-+-\n"
     ]
    }
   ],
   "source": [
    "quadro.Desenhar()"
   ]
  },
  {
   "cell_type": "code",
   "execution_count": 43,
   "id": "c0d9ea9a-b3cd-4602-8de2-d9d8a3b81366",
   "metadata": {},
   "outputs": [
    {
     "data": {
      "text/plain": [
       "[<__main__.Cilindro at 0x2baa1758310>, <__main__.Esfera at 0x2baa17582e0>]"
      ]
     },
     "execution_count": 43,
     "metadata": {},
     "output_type": "execute_result"
    }
   ],
   "source": [
    "quadro.Adicionar_figura(esfera)"
   ]
  },
  {
   "cell_type": "code",
   "execution_count": null,
   "id": "c8d3b662-43f0-4d24-90db-537b00ea8bcb",
   "metadata": {},
   "outputs": [],
   "source": []
  }
 ],
 "metadata": {
  "kernelspec": {
   "display_name": "Python 3",
   "language": "python",
   "name": "python3"
  },
  "language_info": {
   "codemirror_mode": {
    "name": "ipython",
    "version": 3
   },
   "file_extension": ".py",
   "mimetype": "text/x-python",
   "name": "python",
   "nbconvert_exporter": "python",
   "pygments_lexer": "ipython3",
   "version": "3.8.8"
  }
 },
 "nbformat": 4,
 "nbformat_minor": 5
}
